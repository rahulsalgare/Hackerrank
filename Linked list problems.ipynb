{
 "cells": [
  {
   "cell_type": "markdown",
   "metadata": {},
   "source": [
    "#### 1. Insert a Node at the Tail of a Linked List\n",
    "https://www.hackerrank.com/challenges/insert-a-node-at-the-tail-of-a-linked-list/problem"
   ]
  },
  {
   "cell_type": "code",
   "execution_count": null,
   "metadata": {},
   "outputs": [
    {
     "name": "stdout",
     "output_type": "stream",
     "text": [
      "3\n",
      "2\n",
      "4\n"
     ]
    }
   ],
   "source": [
    "#problem with code\n",
    "\n",
    "class SinglyLinkedListNode:\n",
    "    def __init__(self, node_data):\n",
    "        self.data = node_data\n",
    "        self.next = None\n",
    "\n",
    "class SinglyLinkedList:\n",
    "    def __init__(self):\n",
    "        self.head = None\n",
    "    \n",
    "    def add_item(self,data):\n",
    "        new_node = SinglyLinkedListNode(data)\n",
    "        if self.head is None:\n",
    "            self.head = new_node\n",
    "        \n",
    "        last_node = self.head\n",
    "        while last_node.next:\n",
    "            last_node = last_node.next\n",
    "        \n",
    "        last_node.next = new_node\n",
    "    \n",
    "    \n",
    "    \n",
    "    def print_llist(self):\n",
    "        last_node = self.head\n",
    "        while last_node.next:\n",
    "            print(\"-\",last_node.data,\"->\")\n",
    "            last_node = last_node.next\n",
    "        \n",
    "        \n",
    "\n",
    "if __name__ == '__main__':\n",
    "    llist_count = int(input())\n",
    "    llist = SinglyLinkedList()\n",
    "    \n",
    "    for i in range(llist_count):\n",
    "        llist_item = int(input())\n",
    "        llist_head = llist.add_item(llist_item)\n",
    "    \n",
    "    llist.print_llist()"
   ]
  },
  {
   "cell_type": "markdown",
   "metadata": {},
   "source": [
    "##### "
   ]
  },
  {
   "cell_type": "code",
   "execution_count": null,
   "metadata": {},
   "outputs": [],
   "source": []
  }
 ],
 "metadata": {
  "kernelspec": {
   "display_name": "Python 3",
   "language": "python",
   "name": "python3"
  },
  "language_info": {
   "codemirror_mode": {
    "name": "ipython",
    "version": 3
   },
   "file_extension": ".py",
   "mimetype": "text/x-python",
   "name": "python",
   "nbconvert_exporter": "python",
   "pygments_lexer": "ipython3",
   "version": "3.7.6"
  }
 },
 "nbformat": 4,
 "nbformat_minor": 4
}
