{
 "cells": [
  {
   "cell_type": "markdown",
   "metadata": {},
   "source": [
    "#### 1. Arrays - DS\n",
    "https://www.hackerrank.com/challenges/arrays-ds/problem"
   ]
  },
  {
   "cell_type": "code",
   "execution_count": 5,
   "metadata": {},
   "outputs": [
    {
     "name": "stdout",
     "output_type": "stream",
     "text": [
      "3\n",
      "4 5 2 8 89\n",
      "89 8 2 5 4\n"
     ]
    }
   ],
   "source": [
    "n = int(input())\n",
    "arr = list(map(int, input().split()))\n",
    "print(*arr[::-1])"
   ]
  },
  {
   "cell_type": "markdown",
   "metadata": {},
   "source": [
    "#### 2. Array Manipulation                                                                   Hard(60 pts)\n",
    "https://www.hackerrank.com/challenges/crush/problem"
   ]
  },
  {
   "cell_type": "code",
   "execution_count": 14,
   "metadata": {},
   "outputs": [
    {
     "name": "stdout",
     "output_type": "stream",
     "text": [
      "5 3\n",
      "1 2 100\n",
      "2 5 100\n",
      "3 4 100\n",
      "[100, 0, 0, 0, 0]\n",
      "[100, 100, 0, 0, 0]\n",
      "[100, 200, 0, 0, 0]\n",
      "[100, 200, 100, 0, 0]\n",
      "[100, 200, 100, 100, 0]\n",
      "[100, 200, 100, 100, 100]\n",
      "[100, 200, 200, 100, 100]\n",
      "[100, 200, 200, 200, 100]\n",
      "[100, 200, 200, 200, 100]\n"
     ]
    }
   ],
   "source": [
    "# Not optimal Half test cases failed\n",
    "n, m = map(int, input().split())\n",
    "op = []\n",
    "for i in range(m):\n",
    "    op.append(list(map(int, input().split())))\n",
    "\n",
    "res = [0 for i in range(n)]\n",
    "\n",
    "for arr in op:\n",
    "    for i in range(arr[0]-1, arr[1]):\n",
    "        res[i] = res[i] + arr[2]\n",
    "print(max(res))"
   ]
  },
  {
   "cell_type": "code",
   "execution_count": 35,
   "metadata": {},
   "outputs": [
    {
     "name": "stdout",
     "output_type": "stream",
     "text": [
      "5 3\n",
      "1 2 100\n",
      "2 5 100\n",
      "3 4 100\n",
      "200\n"
     ]
    }
   ],
   "source": [
    "# Optimal all test cases passed\n",
    "\n",
    "n, m = map(int, input().split())\n",
    "op = []\n",
    "maxm = 0\n",
    "res = [0 for i in range(n+1)]\n",
    "for i in range(m):\n",
    "    op.append(list(map(int, input().split())))\n",
    "    \n",
    "\n",
    "for i in op:\n",
    "    a = i[0] - 1\n",
    "    b = i[1]\n",
    "    k = i[2]\n",
    "    res[a] += k\n",
    "    res[b] -= k\n",
    "    \n",
    "max_value = 0\n",
    "runnin_count = 0\n",
    "\n",
    "for i in res:\n",
    "    runnin_count += i\n",
    "    if runnin_count > max_value:\n",
    "        max_value = runnin_count\n",
    "    \n",
    "print(max_value)"
   ]
  },
  {
   "cell_type": "markdown",
   "metadata": {},
   "source": [
    "#### 3. 2d Array -DS \n",
    "https://www.hackerrank.com/challenges/2d-array/problem"
   ]
  },
  {
   "cell_type": "code",
   "execution_count": 42,
   "metadata": {},
   "outputs": [
    {
     "name": "stdout",
     "output_type": "stream",
     "text": [
      "3 4 5 4 6 7\n",
      "-3 -4 -5 4 5 -4\n",
      "3 4 5 2 7 3\n",
      "2 3 -4 -3 5 6\n",
      "2 6 3 23 23 5\n",
      "5 -3 23 9 0 3\n",
      "68\n"
     ]
    }
   ],
   "source": [
    "arr = []\n",
    "for i in range(6):\n",
    "    arr.append(list(map(int, input().rstrip().split())))\n",
    "sumr = []\n",
    "\n",
    "for i in range(len(arr)-2):\n",
    "    for j in range(len(arr)-2):\n",
    "        sumr.append(arr[i][j]+arr[i][j+1]+arr[i][j+2]+arr[i+1][j+1]+arr[i+2][j]+arr[i+2][j+1]+arr[i+2][j+2])\n",
    " \n",
    "print(max(sumr))"
   ]
  },
  {
   "cell_type": "markdown",
   "metadata": {},
   "source": [
    "#### 4. Sparse Arrays\n",
    "https://www.hackerrank.com/challenges/sparse-arrays/problem"
   ]
  },
  {
   "cell_type": "code",
   "execution_count": 47,
   "metadata": {},
   "outputs": [
    {
     "name": "stdout",
     "output_type": "stream",
     "text": [
      "4\n",
      "aba\n",
      "baba\n",
      "aba\n",
      "xzxb\n",
      "3\n",
      "aba\n",
      "xzxb\n",
      "ab\n",
      "2\n",
      "1\n",
      "0\n"
     ]
    }
   ],
   "source": [
    "from collections import Counter\n",
    "\n",
    "n = int(input())\n",
    "strn = []\n",
    "for i in range(n):\n",
    "    strn.append(input())\n",
    "\n",
    "q = int(input())\n",
    "queries = []\n",
    "for i in range(q):\n",
    "    queries.append(input())\n",
    "\n",
    "\n",
    "c = Counter(strn)\n",
    "\n",
    "for i in queries:\n",
    "    print(c[i])"
   ]
  },
  {
   "cell_type": "code",
   "execution_count": null,
   "metadata": {},
   "outputs": [],
   "source": []
  }
 ],
 "metadata": {
  "kernelspec": {
   "display_name": "Python 3",
   "language": "python",
   "name": "python3"
  },
  "language_info": {
   "codemirror_mode": {
    "name": "ipython",
    "version": 3
   },
   "file_extension": ".py",
   "mimetype": "text/x-python",
   "name": "python",
   "nbconvert_exporter": "python",
   "pygments_lexer": "ipython3",
   "version": "3.7.6"
  }
 },
 "nbformat": 4,
 "nbformat_minor": 4
}
